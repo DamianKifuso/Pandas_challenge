{
 "cells": [
  {
   "cell_type": "code",
   "execution_count": null,
   "id": "3b713c93-9190-42da-aa0c-dbe47f8d280b",
   "metadata": {},
   "outputs": [],
   "source": [
    "#damian "
   ]
  },
  {
   "cell_type": "code",
   "execution_count": null,
   "id": "e9e44121-ddd4-41f8-9688-c5751e2b5b0d",
   "metadata": {},
   "outputs": [],
   "source": []
  }
 ],
 "metadata": {
  "kernelspec": {
   "display_name": "“PythonData”",
   "language": "python",
   "name": "pythondata"
  },
  "language_info": {
   "codemirror_mode": {
    "name": "ipython",
    "version": 3
   },
   "file_extension": ".py",
   "mimetype": "text/x-python",
   "name": "python",
   "nbconvert_exporter": "python",
   "pygments_lexer": "ipython3",
   "version": "3.11.4"
  }
 },
 "nbformat": 4,
 "nbformat_minor": 5
}
